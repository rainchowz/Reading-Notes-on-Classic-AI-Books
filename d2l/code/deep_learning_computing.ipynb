{
 "cells": [
  {
   "cell_type": "code",
   "execution_count": 1,
   "id": "f63bd1b2-4743-42d4-8074-3f065ed723df",
   "metadata": {},
   "outputs": [
    {
     "data": {
      "text/plain": [
       "tensor([[ 0.2881,  0.1163,  0.0060,  0.1075, -0.0227,  0.0456, -0.0488,  0.2393,\n",
       "          0.0442, -0.3043],\n",
       "        [ 0.2908,  0.1605, -0.0210,  0.0386,  0.0483,  0.1161, -0.1026,  0.2286,\n",
       "          0.0802, -0.2686]], grad_fn=<AddmmBackward0>)"
      ]
     },
     "execution_count": 1,
     "metadata": {},
     "output_type": "execute_result"
    }
   ],
   "source": [
    "import torch\n",
    "from torch import nn\n",
    "from torch.nn import functional as F\n",
    "net = nn.Sequential(nn.Linear(20, 256), nn.ReLU(), nn.Linear(256, 10))\n",
    "X = torch.rand(2, 20)\n",
    "net(X)"
   ]
  },
  {
   "cell_type": "code",
   "execution_count": 2,
   "id": "90b86ad1-867e-4bb0-9583-c3d44b7f171a",
   "metadata": {},
   "outputs": [
    {
     "data": {
      "text/plain": [
       "tensor([[ 0.0790,  0.1703,  0.1375,  0.2858, -0.2195,  0.0323, -0.2555, -0.0512,\n",
       "         -0.0147,  0.1182],\n",
       "        [ 0.0907, -0.0534,  0.0676,  0.2651, -0.2690,  0.0506, -0.1389, -0.0880,\n",
       "         -0.0050, -0.0301]], grad_fn=<AddmmBackward0>)"
      ]
     },
     "execution_count": 2,
     "metadata": {},
     "output_type": "execute_result"
    }
   ],
   "source": [
    "class MLP(nn.Module):\n",
    "    def __init__(self):\n",
    "        # 调用MLP的父类Module的构造函数来执行必要的初始化。\n",
    "        #这样，在类实例化时也可以指定其他函数参数\n",
    "        super().__init__()\n",
    "        self.hidden = nn.Linear(20,256)\n",
    "        self.out = nn.Linear(256,10)\n",
    "\n",
    "    def forward(self, X):\n",
    "        return self.out(F.relu(self.hidden(X)))\n",
    "\n",
    "net = MLP()\n",
    "net(X)\n",
    "        "
   ]
  },
  {
   "cell_type": "code",
   "execution_count": 3,
   "id": "581ca352-8da5-49f4-aaa5-2a80456b4788",
   "metadata": {},
   "outputs": [],
   "source": [
    "class MySequential(nn.Module):\n",
    "    def __init__(self, *args):\n",
    "        super().__init__()\n",
    "        for idx, module in enumerate(args):\n",
    "            self._modules[str(idx)] = module\n",
    "\n",
    "    def forward(self,X):\n",
    "        for block in self._modules.values():\n",
    "            X = block(X)\n",
    "        return X"
   ]
  },
  {
   "cell_type": "code",
   "execution_count": 4,
   "id": "cdbd610a-93a8-4396-a382-46d9ef82f30d",
   "metadata": {},
   "outputs": [
    {
     "data": {
      "text/plain": [
       "tensor([[ 0.0219,  0.0411,  0.1432, -0.0853, -0.1439,  0.1436, -0.3088, -0.1688,\n",
       "         -0.0110, -0.2088],\n",
       "        [-0.0794,  0.1205,  0.0150, -0.0765, -0.0897,  0.1437, -0.2706, -0.1196,\n",
       "         -0.0914, -0.0375]], grad_fn=<AddmmBackward0>)"
      ]
     },
     "execution_count": 4,
     "metadata": {},
     "output_type": "execute_result"
    }
   ],
   "source": [
    "net = MySequential(nn.Linear(20,256),nn.ReLU(),nn.Linear(256,10))\n",
    "net(X)"
   ]
  },
  {
   "cell_type": "code",
   "execution_count": 5,
   "id": "d7dc2189-a4a7-4f7d-a144-cf5b0e4da421",
   "metadata": {},
   "outputs": [],
   "source": [
    "class FixedHiddenMLP(nn.Module):\n",
    "    def __init__(self):\n",
    "        super().__init__()\n",
    "        self.rand_weight = torch.rand((20,20),requires_grad = False)\n",
    "        self.linear = nn.Linear(20,20)\n",
    "\n",
    "    def forward(self,X):\n",
    "        X = self.linear(X)\n",
    "        X = F.relu(torch.mm(X,self.rand_weight) + 1)\n",
    "        X = self.linear(X)\n",
    "        while X.abs().sum() > 1:\n",
    "            X /= 2\n",
    "        return X.sum()"
   ]
  },
  {
   "cell_type": "code",
   "execution_count": 6,
   "id": "c173eb15-f9c8-4b42-8aa2-530c3339f66b",
   "metadata": {},
   "outputs": [
    {
     "data": {
      "text/plain": [
       "tensor(-0.1184, grad_fn=<SumBackward0>)"
      ]
     },
     "execution_count": 6,
     "metadata": {},
     "output_type": "execute_result"
    }
   ],
   "source": [
    "net = FixedHiddenMLP()\n",
    "net(X)"
   ]
  },
  {
   "cell_type": "code",
   "execution_count": 7,
   "id": "a05f6c9e-e5a7-46df-92ae-3ecfd3111dc9",
   "metadata": {},
   "outputs": [
    {
     "name": "stdout",
     "output_type": "stream",
     "text": [
      "Sequential(\n",
      "  (0): NestMLP(\n",
      "    (net): Sequential(\n",
      "      (0): Linear(in_features=20, out_features=64, bias=True)\n",
      "      (1): ReLU()\n",
      "      (2): Linear(in_features=64, out_features=32, bias=True)\n",
      "      (3): ReLU()\n",
      "    )\n",
      "    (linear): Linear(in_features=32, out_features=16, bias=True)\n",
      "  )\n",
      "  (1): Linear(in_features=16, out_features=20, bias=True)\n",
      "  (2): FixedHiddenMLP(\n",
      "    (linear): Linear(in_features=20, out_features=20, bias=True)\n",
      "  )\n",
      ")\n"
     ]
    }
   ],
   "source": [
    "class NestMLP(nn.Module):\n",
    "    def __init__(self):\n",
    "        super().__init__()\n",
    "        self.net = nn.Sequential(nn.Linear(20,64),nn.ReLU(),\n",
    "                                 nn.Linear(64,32),nn.ReLU())\n",
    "        self.linear = nn.Linear(32,16)\n",
    "\n",
    "    def forward(self,X):\n",
    "        return self.linear(self.net(X))\n",
    "\n",
    "chimera = nn.Sequential(NestMLP(),nn.Linear(16,20),FixedHiddenMLP())\n",
    "chimera(X)\n",
    "print(chimera)"
   ]
  },
  {
   "cell_type": "code",
   "execution_count": 8,
   "id": "b0cd967a-9763-4944-8d38-2753a99727c2",
   "metadata": {},
   "outputs": [
    {
     "data": {
      "text/plain": [
       "tensor([[-0.2519],\n",
       "        [-0.2347]], grad_fn=<AddmmBackward0>)"
      ]
     },
     "execution_count": 8,
     "metadata": {},
     "output_type": "execute_result"
    }
   ],
   "source": [
    "import torch\n",
    "from torch import nn\n",
    "net = nn.Sequential(nn.Linear(4, 8), nn.ReLU(), nn.Linear(8, 1))\n",
    "X = torch.rand(size=(2, 4))\n",
    "net(X)"
   ]
  },
  {
   "cell_type": "code",
   "execution_count": 9,
   "id": "39a009f8-d227-4a3f-a361-ecf4cd3a7fb5",
   "metadata": {},
   "outputs": [
    {
     "name": "stdout",
     "output_type": "stream",
     "text": [
      "Sequential(\n",
      "  (0): Linear(in_features=4, out_features=8, bias=True)\n",
      "  (1): ReLU()\n",
      "  (2): Linear(in_features=8, out_features=1, bias=True)\n",
      ")\n",
      "OrderedDict([('0.weight', tensor([[-0.3950,  0.2128,  0.1442,  0.2523],\n",
      "        [-0.3996, -0.3796, -0.0121,  0.2295],\n",
      "        [-0.2593,  0.2746,  0.1754, -0.4681],\n",
      "        [-0.0038,  0.4718, -0.1787, -0.0759],\n",
      "        [-0.4996,  0.0760,  0.1363, -0.2796],\n",
      "        [ 0.0221,  0.1584, -0.1604, -0.1997],\n",
      "        [ 0.4986, -0.2319, -0.3809,  0.2980],\n",
      "        [ 0.3822,  0.1038, -0.3766,  0.4733]])), ('0.bias', tensor([-0.2535,  0.3367, -0.4663, -0.3031,  0.0270, -0.4074, -0.4898,  0.2912])), ('2.weight', tensor([[-0.0773,  0.0498,  0.1284,  0.1398, -0.1083,  0.3386,  0.2900, -0.1857]])), ('2.bias', tensor([-0.1739]))])\n",
      "OrderedDict([('weight', tensor([[-0.0773,  0.0498,  0.1284,  0.1398, -0.1083,  0.3386,  0.2900, -0.1857]])), ('bias', tensor([-0.1739]))])\n"
     ]
    }
   ],
   "source": [
    "print(net)\n",
    "print(net.state_dict())\n",
    "print(net[2].state_dict())"
   ]
  },
  {
   "cell_type": "code",
   "execution_count": 10,
   "id": "53a6b09d-f4e5-426f-9e3c-491fd9722c4d",
   "metadata": {},
   "outputs": [
    {
     "name": "stdout",
     "output_type": "stream",
     "text": [
      "<class 'torch.nn.parameter.Parameter'>\n",
      "Parameter containing:\n",
      "tensor([-0.1739], requires_grad=True)\n",
      "tensor([-0.1739])\n",
      "<class 'torch.nn.parameter.Parameter'>\n",
      "Parameter containing:\n",
      "tensor([[-0.0773,  0.0498,  0.1284,  0.1398, -0.1083,  0.3386,  0.2900, -0.1857]],\n",
      "       requires_grad=True)\n",
      "tensor([[-0.0773,  0.0498,  0.1284,  0.1398, -0.1083,  0.3386,  0.2900, -0.1857]])\n"
     ]
    }
   ],
   "source": [
    "print(type(net[2].bias))\n",
    "print(net[2].bias)\n",
    "print(net[2].bias.data)\n",
    "print(type(net[2].weight))\n",
    "print(net[2].weight)\n",
    "print(net[2].weight.data)"
   ]
  },
  {
   "cell_type": "code",
   "execution_count": 11,
   "id": "bcf16def-13e1-42ef-b347-83e6d0ad859e",
   "metadata": {},
   "outputs": [],
   "source": [
    "net[2].weight.grad = None\n"
   ]
  },
  {
   "cell_type": "code",
   "execution_count": 12,
   "id": "820440e9-b9c3-4b72-a9f1-30df5f9a0f42",
   "metadata": {},
   "outputs": [
    {
     "name": "stdout",
     "output_type": "stream",
     "text": [
      "('0.weight', torch.Size([8, 4])) ('0.bias', torch.Size([8])) ('2.weight', torch.Size([1, 8])) ('2.bias', torch.Size([1]))\n"
     ]
    },
    {
     "data": {
      "text/plain": [
       "[('weight', torch.Size([8, 4])), ('bias', torch.Size([8]))]"
      ]
     },
     "execution_count": 12,
     "metadata": {},
     "output_type": "execute_result"
    }
   ],
   "source": [
    "print(*[(name, param.shape) for name, param in net.named_parameters()])\n",
    "[(name,param.shape) for name, param in net[0].named_parameters()]"
   ]
  },
  {
   "cell_type": "code",
   "execution_count": 13,
   "id": "b0ad9684-376d-4a76-a87e-78ada57e588a",
   "metadata": {},
   "outputs": [
    {
     "data": {
      "text/plain": [
       "<generator object Module.parameters at 0x0000016236C202E0>"
      ]
     },
     "execution_count": 13,
     "metadata": {},
     "output_type": "execute_result"
    }
   ],
   "source": [
    "net.parameters()"
   ]
  },
  {
   "cell_type": "code",
   "execution_count": 14,
   "id": "c7ded3cb-5392-4fc7-8ca5-7528b94dc546",
   "metadata": {},
   "outputs": [
    {
     "data": {
      "text/plain": [
       "tensor([-0.1739])"
      ]
     },
     "execution_count": 14,
     "metadata": {},
     "output_type": "execute_result"
    }
   ],
   "source": [
    "net.state_dict()['2.bias'].data"
   ]
  },
  {
   "cell_type": "code",
   "execution_count": 15,
   "id": "a38a5953-c9a1-4115-b107-72d7a5813b1a",
   "metadata": {},
   "outputs": [
    {
     "data": {
      "text/plain": [
       "tensor([[-0.4967],\n",
       "        [-0.4967]], grad_fn=<AddmmBackward0>)"
      ]
     },
     "execution_count": 15,
     "metadata": {},
     "output_type": "execute_result"
    }
   ],
   "source": [
    "def block1():\n",
    "    return nn.Sequential(nn.Linear(4, 8), nn.ReLU(),\n",
    "           nn.Linear(8, 4), nn.ReLU())\n",
    "\n",
    "def block2():\n",
    "    net = nn.Sequential()\n",
    "    for i in range(4):\n",
    "        net.add_module(f'block {i}', block1())\n",
    "    return net\n",
    "\n",
    "rgnet = nn.Sequential(block2(), nn.Linear(4, 1))\n",
    "rgnet(X)"
   ]
  },
  {
   "cell_type": "code",
   "execution_count": 16,
   "id": "88c1867a-e11b-4ffc-b038-c965e58dcc17",
   "metadata": {},
   "outputs": [
    {
     "name": "stdout",
     "output_type": "stream",
     "text": [
      "Sequential(\n",
      "  (0): Sequential(\n",
      "    (block 0): Sequential(\n",
      "      (0): Linear(in_features=4, out_features=8, bias=True)\n",
      "      (1): ReLU()\n",
      "      (2): Linear(in_features=8, out_features=4, bias=True)\n",
      "      (3): ReLU()\n",
      "    )\n",
      "    (block 1): Sequential(\n",
      "      (0): Linear(in_features=4, out_features=8, bias=True)\n",
      "      (1): ReLU()\n",
      "      (2): Linear(in_features=8, out_features=4, bias=True)\n",
      "      (3): ReLU()\n",
      "    )\n",
      "    (block 2): Sequential(\n",
      "      (0): Linear(in_features=4, out_features=8, bias=True)\n",
      "      (1): ReLU()\n",
      "      (2): Linear(in_features=8, out_features=4, bias=True)\n",
      "      (3): ReLU()\n",
      "    )\n",
      "    (block 3): Sequential(\n",
      "      (0): Linear(in_features=4, out_features=8, bias=True)\n",
      "      (1): ReLU()\n",
      "      (2): Linear(in_features=8, out_features=4, bias=True)\n",
      "      (3): ReLU()\n",
      "    )\n",
      "  )\n",
      "  (1): Linear(in_features=4, out_features=1, bias=True)\n",
      ")\n"
     ]
    }
   ],
   "source": [
    "print(rgnet)"
   ]
  },
  {
   "cell_type": "code",
   "execution_count": 17,
   "id": "ca76fbbb-f33d-477d-aed1-46218a589974",
   "metadata": {},
   "outputs": [
    {
     "data": {
      "text/plain": [
       "tensor([ 0.1469, -0.1553, -0.1937,  0.1439,  0.4210,  0.2566, -0.4011, -0.1438])"
      ]
     },
     "execution_count": 17,
     "metadata": {},
     "output_type": "execute_result"
    }
   ],
   "source": [
    "rgnet[0][1][0].bias.data"
   ]
  },
  {
   "cell_type": "code",
   "execution_count": 18,
   "id": "5d66309a-fa52-4df8-ba0b-b1f0a1edce0d",
   "metadata": {},
   "outputs": [
    {
     "name": "stdout",
     "output_type": "stream",
     "text": [
      "Sequential(\n",
      "  (0): Linear(in_features=4, out_features=8, bias=True)\n",
      "  (1): ReLU()\n",
      "  (2): Linear(in_features=8, out_features=1, bias=True)\n",
      ")\n"
     ]
    },
    {
     "data": {
      "text/plain": [
       "(tensor([[ 0.0017,  0.0016, -0.0143,  0.0009],\n",
       "         [-0.0246, -0.0084, -0.0205,  0.0139],\n",
       "         [ 0.0096, -0.0134,  0.0074,  0.0004],\n",
       "         [-0.0251,  0.0127,  0.0018,  0.0026],\n",
       "         [-0.0021, -0.0031, -0.0261, -0.0022],\n",
       "         [-0.0012, -0.0098, -0.0129, -0.0126],\n",
       "         [ 0.0006,  0.0211, -0.0117, -0.0106],\n",
       "         [ 0.0058,  0.0033, -0.0179, -0.0031]]),\n",
       " tensor(0.))"
      ]
     },
     "execution_count": 18,
     "metadata": {},
     "output_type": "execute_result"
    }
   ],
   "source": [
    "def init_normal(m):\n",
    "    if type(m) == nn.Linear:\n",
    "        nn.init.normal_(m.weight, mean = 0, std = 0.01)\n",
    "        nn.init.zeros_(m.bias)\n",
    "net.apply(init_normal)\n",
    "print(net)\n",
    "net[0].weight.data, net[0].bias.data[0]"
   ]
  },
  {
   "cell_type": "markdown",
   "id": "c1dd36b9-2176-418e-99c4-03dff666101f",
   "metadata": {},
   "source": [
    "### 将所有参数初始化为给定的常数"
   ]
  },
  {
   "cell_type": "code",
   "execution_count": 20,
   "id": "508cd1ac-f40d-4232-a316-a89b6c049f6c",
   "metadata": {},
   "outputs": [
    {
     "data": {
      "text/plain": [
       "(tensor([1., 1., 1., 1.]), tensor(0.))"
      ]
     },
     "execution_count": 20,
     "metadata": {},
     "output_type": "execute_result"
    }
   ],
   "source": [
    "def init_constant(m):\n",
    "    if type(m) == nn.Linear:\n",
    "        nn.init.constant_(m.weight,1)\n",
    "        nn.init.zeros_(m.bias)\n",
    "net.apply(init_constant)\n",
    "net[0].weight.data[0], net[0].bias.data[0]"
   ]
  },
  {
   "cell_type": "code",
   "execution_count": 21,
   "id": "c16fe3ef-4492-4560-96fa-5db4f0d9a096",
   "metadata": {},
   "outputs": [
    {
     "name": "stdout",
     "output_type": "stream",
     "text": [
      "tensor([-0.3558, -0.5397, -0.4687,  0.2109])\n",
      "tensor([[42., 42., 42., 42., 42., 42., 42., 42.]])\n"
     ]
    }
   ],
   "source": [
    "def init_xavier(m):\n",
    "    if type(m) == nn.Linear:\n",
    "        nn.init.xavier_uniform_(m.weight)\n",
    "def init_42(m):\n",
    "    if type(m) == nn.Linear:\n",
    "        nn.init.constant_(m.weight,42)\n",
    "net[0].apply(init_xavier)\n",
    "net[2].apply(init_42)\n",
    "print(net[0].weight.data[0])\n",
    "print(net[2].weight.data)"
   ]
  },
  {
   "cell_type": "code",
   "execution_count": 22,
   "id": "31a431ed-2e54-440c-8465-00667bbd09b5",
   "metadata": {},
   "outputs": [
    {
     "name": "stdout",
     "output_type": "stream",
     "text": [
      "init weight torch.Size([8, 4])\n",
      "init weight torch.Size([1, 8])\n"
     ]
    },
    {
     "data": {
      "text/plain": [
       "tensor([[-0.0000,  0.0000,  0.0000,  0.0000],\n",
       "        [-5.0873,  5.6127,  7.3465,  9.7861]], grad_fn=<SliceBackward0>)"
      ]
     },
     "execution_count": 22,
     "metadata": {},
     "output_type": "execute_result"
    }
   ],
   "source": [
    "def my_init(m):\n",
    "    if type(m) == nn.Linear:\n",
    "        # '*'操作是unpacking，把元祖或列表的元素逐个提取出来 \n",
    "        print('init',*[(name,param.shape) for name, param in m.named_parameters()][0])\n",
    "        nn.init.uniform_(m.weight,-10,10)\n",
    "        m.weight.data *= m.weight.data.abs() >= 5\n",
    "\n",
    "net.apply(my_init)\n",
    "net[0].weight[:2]"
   ]
  },
  {
   "cell_type": "code",
   "execution_count": 23,
   "id": "d7b056fb-9e49-4d60-a5d6-eb390dfcd89a",
   "metadata": {},
   "outputs": [
    {
     "name": "stdout",
     "output_type": "stream",
     "text": [
      "Sequential(\n",
      "  (0): Linear(in_features=4, out_features=8, bias=True)\n",
      "  (1): ReLU()\n",
      "  (2): Linear(in_features=8, out_features=1, bias=True)\n",
      ")\n"
     ]
    },
    {
     "data": {
      "text/plain": [
       "[('0.weight', torch.Size([8, 4])),\n",
       " ('0.bias', torch.Size([8])),\n",
       " ('2.weight', torch.Size([1, 8])),\n",
       " ('2.bias', torch.Size([1]))]"
      ]
     },
     "execution_count": 23,
     "metadata": {},
     "output_type": "execute_result"
    }
   ],
   "source": [
    "print(net)\n",
    "[(name, param.shape) for name, param in net.named_parameters()]"
   ]
  },
  {
   "cell_type": "code",
   "execution_count": 24,
   "id": "fb1517b0-41fc-432e-8f3c-493a45dd7c4a",
   "metadata": {},
   "outputs": [
    {
     "data": {
      "text/plain": [
       "('0.weight', torch.Size([8, 4]))"
      ]
     },
     "execution_count": 24,
     "metadata": {},
     "output_type": "execute_result"
    }
   ],
   "source": [
    "[(name,param.shape) for name, param in net.named_parameters()][0]"
   ]
  },
  {
   "cell_type": "code",
   "execution_count": 25,
   "id": "a91a905e-bfdb-44b0-bcdb-cc8086122377",
   "metadata": {},
   "outputs": [
    {
     "name": "stdout",
     "output_type": "stream",
     "text": [
      "init ('0.weight', torch.Size([8, 4]))\n",
      "init 0.weight torch.Size([8, 4])\n"
     ]
    }
   ],
   "source": [
    "print('init',[(name,param.shape) for name, param in net.named_parameters()][0])\n",
    "print('init',*[(name,param.shape) for name, param in net.named_parameters()][0])"
   ]
  },
  {
   "cell_type": "code",
   "execution_count": 26,
   "id": "a2f98f55-1ed9-4542-b30a-54cbf7113ae1",
   "metadata": {},
   "outputs": [
    {
     "name": "stdout",
     "output_type": "stream",
     "text": [
      "tensor([[-0.0000,  0.0000,  0.0000,  0.0000],\n",
      "        [-5.0873,  5.6127,  7.3465,  9.7861],\n",
      "        [-0.0000, -0.0000, -0.0000,  9.9452],\n",
      "        [-7.4317,  0.0000, -0.0000, -0.0000],\n",
      "        [ 0.0000, -9.5917, -0.0000, -6.5016],\n",
      "        [-0.0000,  6.0040, -0.0000, -0.0000],\n",
      "        [-0.0000, -9.9364,  0.0000,  6.5011],\n",
      "        [ 0.0000, -0.0000,  0.0000,  0.0000]])\n"
     ]
    },
    {
     "data": {
      "text/plain": [
       "tensor([42.,  1.,  1.,  1.])"
      ]
     },
     "execution_count": 26,
     "metadata": {},
     "output_type": "execute_result"
    }
   ],
   "source": [
    "print(net[0].weight.data)\n",
    "net[0].weight.data[:] += 1\n",
    "net[0].weight.data[0, 0] = 42 # tensor可以直接这样写访问0,0位置上的元素\n",
    "net[0].weight.data[0]"
   ]
  },
  {
   "cell_type": "code",
   "execution_count": 27,
   "id": "663ff0d7-c7f6-4b45-91ae-6a4e039c54b2",
   "metadata": {},
   "outputs": [
    {
     "name": "stdout",
     "output_type": "stream",
     "text": [
      "tensor([True, True, True, True, True, True, True, True])\n",
      "tensor([True, True, True, True, True, True, True, True])\n"
     ]
    }
   ],
   "source": [
    "# 两个shared层共享参数，梯度是它们的梯度之和\n",
    "shared = nn.Linear(8,8)\n",
    "net = nn.Sequential(nn.Linear(4,8),nn.ReLU(),\n",
    "                   shared,nn.ReLU(),\n",
    "                   shared, nn.ReLU(),\n",
    "                   nn.Linear(8,1))\n",
    "net(X)\n",
    "# 检查参数是否相同\n",
    "print(net[2].weight.data[0] == net[4].weight.data[0])\n",
    "net[2].weight.data[0, 0] = 100\n",
    "# 确保它们实际上是同一个对象，而不只是有相同的值\n",
    "print(net[2].weight.data[0] == net[4].weight.data[0])"
   ]
  },
  {
   "cell_type": "markdown",
   "id": "b6e00465-756f-4840-97e8-b96594fac67c",
   "metadata": {},
   "source": [
    "### 延后初始化"
   ]
  },
  {
   "cell_type": "code",
   "execution_count": 29,
   "id": "6dfc3e78-eed9-4bc7-896c-18532855dadf",
   "metadata": {},
   "outputs": [],
   "source": [
    "import torch\n",
    "import torch.nn.functional as F\n",
    "from torch import nn\n",
    "class CenteredLayer(nn.Module):\n",
    "    def __init__(self):\n",
    "        super().__init__()\n",
    "    def forward(self, X):\n",
    "        return X- X.mean()"
   ]
  },
  {
   "cell_type": "code",
   "execution_count": 30,
   "id": "8205997f-6be9-43d2-b6cd-eabb66c1db16",
   "metadata": {},
   "outputs": [
    {
     "data": {
      "text/plain": [
       "tensor([-2., -1.,  0.,  1.,  2.])"
      ]
     },
     "execution_count": 30,
     "metadata": {},
     "output_type": "execute_result"
    }
   ],
   "source": [
    "layer = CenteredLayer()\n",
    "layer(torch.FloatTensor([1,2,3,4,5]))"
   ]
  },
  {
   "cell_type": "code",
   "execution_count": 31,
   "id": "39c77919-a6a8-47b2-848b-9d4027bb086d",
   "metadata": {},
   "outputs": [],
   "source": [
    "net = nn.Sequential(nn.Linear(8, 128), CenteredLayer())"
   ]
  },
  {
   "cell_type": "code",
   "execution_count": 32,
   "id": "b57eed23-b38a-4fff-9dc5-bc8b799611db",
   "metadata": {},
   "outputs": [
    {
     "data": {
      "text/plain": [
       "tensor(-5.1223e-09, grad_fn=<MeanBackward0>)"
      ]
     },
     "execution_count": 32,
     "metadata": {},
     "output_type": "execute_result"
    }
   ],
   "source": [
    "Y = net(torch.rand(4, 8))\n",
    "Y.mean()"
   ]
  },
  {
   "cell_type": "code",
   "execution_count": 33,
   "id": "01771e2b-ebe2-4952-bb07-f7f048a10857",
   "metadata": {},
   "outputs": [],
   "source": [
    "class MyLinear(nn.Module):\n",
    "    def __init__(self, in_units, units):\n",
    "        super().__init__()\n",
    "        self.weight = nn.Parameter(torch.randn(in_units, units))\n",
    "        self.bias = nn.Parameter(torch.randn(units,))\n",
    "    def forward(self, X):\n",
    "        linear = torch.matmul(X, self.weight.data) + self.bias.data\n",
    "        return F.relu(linear)"
   ]
  },
  {
   "cell_type": "code",
   "execution_count": 34,
   "id": "b090f570-0694-4a0f-86a9-5789c66abd5a",
   "metadata": {},
   "outputs": [
    {
     "data": {
      "text/plain": [
       "Parameter containing:\n",
       "tensor([[ 0.5687,  0.7563,  0.2257],\n",
       "        [-0.8320, -1.0502,  2.6032],\n",
       "        [-1.2867,  1.4716, -0.2495],\n",
       "        [ 1.3699, -0.3316,  0.4436],\n",
       "        [ 0.1907, -1.4614,  0.1801]], requires_grad=True)"
      ]
     },
     "execution_count": 34,
     "metadata": {},
     "output_type": "execute_result"
    }
   ],
   "source": [
    "linear = MyLinear(5, 3)\n",
    "linear.weight"
   ]
  },
  {
   "cell_type": "code",
   "execution_count": 35,
   "id": "81becd6a-78b9-4b08-b922-b8ab82aac4da",
   "metadata": {},
   "outputs": [
    {
     "data": {
      "text/plain": [
       "tensor([[0.0000, 0.0000, 1.9506],\n",
       "        [0.0000, 0.0000, 2.2542]])"
      ]
     },
     "execution_count": 35,
     "metadata": {},
     "output_type": "execute_result"
    }
   ],
   "source": [
    "linear(torch.rand(2, 5))"
   ]
  },
  {
   "cell_type": "code",
   "execution_count": 36,
   "id": "9b6ff80e-b218-491a-8748-971951907953",
   "metadata": {},
   "outputs": [
    {
     "data": {
      "text/plain": [
       "tensor([[24.1731],\n",
       "        [ 3.7094]])"
      ]
     },
     "execution_count": 36,
     "metadata": {},
     "output_type": "execute_result"
    }
   ],
   "source": [
    "net = nn.Sequential(MyLinear(64, 8), MyLinear(8, 1))\n",
    "net(torch.rand(2, 64))"
   ]
  },
  {
   "cell_type": "markdown",
   "id": "edf94ef3-5918-4d95-8a7e-9f09cf47c48b",
   "metadata": {},
   "source": [
    "### 模型保存"
   ]
  },
  {
   "cell_type": "code",
   "execution_count": 38,
   "id": "e376d371-a1a3-4979-b92e-7b39f237ca36",
   "metadata": {},
   "outputs": [
    {
     "data": {
      "text/plain": [
       "tensor([0, 1, 2, 3])"
      ]
     },
     "execution_count": 38,
     "metadata": {},
     "output_type": "execute_result"
    }
   ],
   "source": [
    "import torch\n",
    "from torch import nn\n",
    "from torch.nn import functional as F\n",
    "\n",
    "x = torch.arange(4)\n",
    "torch.save(x, 'x-file')\n",
    "x2 = torch.load('x-file')\n",
    "x2"
   ]
  },
  {
   "cell_type": "code",
   "execution_count": 39,
   "id": "bc54e774-6a5c-4d55-a03b-234203bdf212",
   "metadata": {},
   "outputs": [
    {
     "data": {
      "text/plain": [
       "(tensor([0, 1, 2, 3]), tensor([0., 0., 0., 0.]))"
      ]
     },
     "execution_count": 39,
     "metadata": {},
     "output_type": "execute_result"
    }
   ],
   "source": [
    "y = torch.zeros(4)\n",
    "torch.save([x, y], 'x-files')\n",
    "x2, y2 = torch.load('x-files')\n",
    "(x2, y2)"
   ]
  },
  {
   "cell_type": "code",
   "execution_count": 40,
   "id": "d4b359e6-5449-4a10-b859-df304592ef81",
   "metadata": {},
   "outputs": [
    {
     "data": {
      "text/plain": [
       "{'x': tensor([0, 1, 2, 3]), 'y': tensor([0., 0., 0., 0.])}"
      ]
     },
     "execution_count": 40,
     "metadata": {},
     "output_type": "execute_result"
    }
   ],
   "source": [
    "mydict = {'x': x, 'y': y}\n",
    "torch.save(mydict, 'mydict')\n",
    "mydict2 = torch.load('mydict')\n",
    "mydict2"
   ]
  },
  {
   "cell_type": "code",
   "execution_count": 41,
   "id": "d02f65f2-a43a-466c-9a87-408a0db1c934",
   "metadata": {},
   "outputs": [],
   "source": [
    "class MLP(nn.Module):\n",
    "    def __init__(self):\n",
    "        super().__init__()\n",
    "        self.hidden = nn.Linear(20, 256)\n",
    "        self.output = nn.Linear(256, 10)\n",
    "    def forward(self, x):\n",
    "         return self.output(F.relu(self.hidden(x)))\n",
    "\n",
    "net = MLP()\n",
    "X = torch.randn(size=(2, 20))\n",
    "Y = net(X)"
   ]
  },
  {
   "cell_type": "code",
   "execution_count": 42,
   "id": "4eb752bf-1b0b-4c26-b896-e76359ba98a9",
   "metadata": {},
   "outputs": [],
   "source": [
    "torch.save(net.state_dict(),'mlp.params')"
   ]
  },
  {
   "cell_type": "code",
   "execution_count": 43,
   "id": "92a289f2-fbf0-46a3-a64a-6c138956b5a6",
   "metadata": {},
   "outputs": [
    {
     "data": {
      "text/plain": [
       "MLP(\n",
       "  (hidden): Linear(in_features=20, out_features=256, bias=True)\n",
       "  (output): Linear(in_features=256, out_features=10, bias=True)\n",
       ")"
      ]
     },
     "execution_count": 43,
     "metadata": {},
     "output_type": "execute_result"
    }
   ],
   "source": [
    "clone = MLP()\n",
    "clone.load_state_dict(torch.load('mlp.params'))\n",
    "clone.eval()"
   ]
  },
  {
   "cell_type": "code",
   "execution_count": 44,
   "id": "13fecbc9-2f0d-4bd3-b87b-e87914a27049",
   "metadata": {},
   "outputs": [
    {
     "data": {
      "text/plain": [
       "tensor([[True, True, True, True, True, True, True, True, True, True],\n",
       "        [True, True, True, True, True, True, True, True, True, True]])"
      ]
     },
     "execution_count": 44,
     "metadata": {},
     "output_type": "execute_result"
    }
   ],
   "source": [
    "Y_clone = clone(X)\n",
    "Y_clone == Y"
   ]
  }
 ],
 "metadata": {
  "kernelspec": {
   "display_name": "d2l",
   "language": "python",
   "name": "d2l"
  },
  "language_info": {
   "codemirror_mode": {
    "name": "ipython",
    "version": 3
   },
   "file_extension": ".py",
   "mimetype": "text/x-python",
   "name": "python",
   "nbconvert_exporter": "python",
   "pygments_lexer": "ipython3",
   "version": "3.9.21"
  }
 },
 "nbformat": 4,
 "nbformat_minor": 5
}
