{
 "cells": [
  {
   "cell_type": "code",
   "execution_count": 1,
   "id": "17d692d4-7c03-4c7d-99d7-d0d981e19c94",
   "metadata": {},
   "outputs": [],
   "source": [
    "class RNN:\n",
    "    def __init__(self,Wx,Wh,b):\n",
    "        self.params=[Wx,Wh,b]\n",
    "        self.grads=[np.zeros_like(Wx),np.zeors_like(Wh),np.zeros_like(b)]\n",
    "        self.cache=None\n",
    "\n",
    "    def forward(self,x,h_prev):\n",
    "        Wx,Wh,b = self.params\n",
    "        t = np.dot(h_prev,Wh) +np.dot(x,Wx)+b\n",
    "        h_next=np.tanh(t)\n",
    "\n",
    "        self.cache=(x,h_prev,h_next)\n",
    "        return h_next\n",
    "\n",
    "    def backward(self,dh_next):\n",
    "        Wx,Wh,b = self.params\n",
    "        x,h_prev,h_next =self.cache\n",
    "\n",
    "        dt = dh_next*(1-h_next**2)\n",
    "        db = np.sum(dt,axis=0)\n",
    "        dWh= np.dot(h_prev.R,dt)\n",
    "        dh_prev=np.dot(dt,Wh.T)\n",
    "        dWx=np.dot(x.T,dt)\n",
    "        dx=np.dot(dt,Wx.T)\n",
    "\n",
    "        self.grads[0][...] = dWx\n",
    "        self.grads[1][...] = dWh\n",
    "        self.grads[2][...] = db\n",
    "        return dx,dh_prev"
   ]
  },
  {
   "cell_type": "code",
   "execution_count": null,
   "id": "e28f30f6-c546-497f-92f7-484df0bf747e",
   "metadata": {},
   "outputs": [],
   "source": []
  },
  {
   "cell_type": "code",
   "execution_count": null,
   "id": "0298c896-215e-494e-aa8f-b1d3ff47596d",
   "metadata": {},
   "outputs": [],
   "source": []
  }
 ],
 "metadata": {
  "kernelspec": {
   "display_name": "Python 3 (ipykernel)",
   "language": "python",
   "name": "python3"
  },
  "language_info": {
   "codemirror_mode": {
    "name": "ipython",
    "version": 3
   },
   "file_extension": ".py",
   "mimetype": "text/x-python",
   "name": "python",
   "nbconvert_exporter": "python",
   "pygments_lexer": "ipython3",
   "version": "3.12.7"
  }
 },
 "nbformat": 4,
 "nbformat_minor": 5
}
